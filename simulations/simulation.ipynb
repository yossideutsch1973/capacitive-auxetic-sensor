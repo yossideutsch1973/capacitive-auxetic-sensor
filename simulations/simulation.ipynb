{
 "cells": [
  {
   "cell_type": "raw",
   "metadata": {
    "vscode": {
     "languageId": "raw"
    }
   },
   "source": [
    "# Capacitive Auxetic Sensor Simulation\n",
    "\n",
    "This notebook demonstrates the design and analysis of a capacitive pressure sensor based on re-entrant auxetic structures.\n",
    "\n",
    "## Overview\n",
    "\n",
    "Auxetic materials exhibit negative Poisson's ratio - they expand laterally when stretched longitudinally. This unique behavior can be exploited to create highly sensitive capacitive sensors where mechanical deformation leads to large, predictable changes in capacitance.\n",
    "\n",
    "## Key Concepts\n",
    "\n",
    "- **Re-entrant Structure**: Geometric pattern that creates auxetic behavior\n",
    "- **Capacitive Sensing**: C = ε₀εᵣA/d where changes in area A and gap d affect capacitance\n",
    "- **Negative Poisson's Ratio**: ν = -εₜᵣₐₙₛᵥₑᵣₛₑ/εₗₒₙ𝓰ᵢₜᵤ𝒹ᵢₙₐₗ < 0\n"
   ]
  },
  {
   "cell_type": "code",
   "execution_count": null,
   "metadata": {},
   "outputs": [],
   "source": [
    "import numpy as np\n",
    "import matplotlib.pyplot as plt\n",
    "import sys\n",
    "import os\n",
    "\n",
    "# Add src directory to path for imports\n",
    "sys.path.append(os.path.join(os.path.dirname(os.getcwd()), 'src'))\n",
    "\n",
    "from design import generate_reentrant_cell, calculate_poisson_ratio, estimate_capacitance_change\n",
    "from utils import distance, polygon_area\n",
    "from test_setup import MockLCRMeter, read_capacitance\n",
    "\n",
    "print(\"✓ All modules imported successfully\")\n",
    "print(\"✓ Ready for auxetic sensor simulation\")\n"
   ]
  },
  {
   "cell_type": "raw",
   "metadata": {
    "vscode": {
     "languageId": "raw"
    }
   },
   "source": [
    "## 1. Design Parameter Analysis\n",
    "\n",
    "Let's analyze how different geometric parameters affect the auxetic behavior and sensor sensitivity.\n"
   ]
  },
  {
   "cell_type": "code",
   "execution_count": null,
   "metadata": {},
   "outputs": [],
   "source": [
    "# Parameter sweep: effect of re-entrance angle on Poisson's ratio\n",
    "angles = np.linspace(5, 85, 50)  # degrees\n",
    "poisson_ratios = [calculate_poisson_ratio(1.0, alpha) for alpha in angles]\n",
    "\n",
    "plt.figure(figsize=(10, 6))\n",
    "plt.plot(angles, poisson_ratios, 'b-', linewidth=2, label='Theoretical')\n",
    "plt.axhline(y=0, color='k', linestyle='--', alpha=0.5, label='Conventional limit')\n",
    "plt.xlabel('Re-entrance Angle α (degrees)')\n",
    "plt.ylabel(\"Poisson's Ratio ν\")\n",
    "plt.title('Auxetic Behavior vs Re-entrance Angle')\n",
    "plt.grid(True, alpha=0.3)\n",
    "plt.legend()\n",
    "plt.ylim(-2, 0.5)\n",
    "\n",
    "# Highlight optimal range\n",
    "optimal_range = (angles >= 20) & (angles <= 60)\n",
    "plt.fill_between(angles[optimal_range], -2, 0.5, alpha=0.2, color='green', \n",
    "                 label='Practical range')\n",
    "plt.legend()\n",
    "plt.show()\n",
    "\n",
    "print(f\"At α=30°: ν = {calculate_poisson_ratio(1.0, 30.0):.3f}\")\n",
    "print(f\"At α=45°: ν = {calculate_poisson_ratio(1.0, 45.0):.3f}\")\n",
    "print(f\"At α=60°: ν = {calculate_poisson_ratio(1.0, 60.0):.3f}\")\n"
   ]
  },
  {
   "cell_type": "raw",
   "metadata": {
    "vscode": {
     "languageId": "raw"
    }
   },
   "source": [
    "## 2. Geometric Visualization\n",
    "\n",
    "Visualize the re-entrant unit cell structure for different parameters.\n"
   ]
  },
  {
   "cell_type": "code",
   "execution_count": null,
   "metadata": {},
   "outputs": [],
   "source": [
    "def plot_cell(a, b, alpha, title=\"\"):\n",
    "    \"\"\"Plot a single re-entrant cell.\"\"\"\n",
    "    cell = generate_reentrant_cell(a, b, alpha)\n",
    "    nodes = np.array(cell[\"nodes\"])\n",
    "    edges = cell[\"edges\"]\n",
    "    \n",
    "    plt.figure(figsize=(8, 8))\n",
    "    \n",
    "    # Plot edges\n",
    "    for edge in edges:\n",
    "        start, end = edge\n",
    "        x_coords = [nodes[start][0], nodes[end][0]]\n",
    "        y_coords = [nodes[start][1], nodes[end][1]]\n",
    "        plt.plot(x_coords, y_coords, 'b-', linewidth=3)\n",
    "    \n",
    "    # Plot nodes\n",
    "    plt.scatter(nodes[:, 0], nodes[:, 1], c='red', s=100, zorder=5)\n",
    "    \n",
    "    # Annotate nodes\n",
    "    for i, (x, y) in enumerate(nodes):\n",
    "        plt.annotate(f'{i}', (x, y), xytext=(5, 5), textcoords='offset points')\n",
    "    \n",
    "    plt.axis('equal')\n",
    "    plt.grid(True, alpha=0.3)\n",
    "    plt.xlabel('X (m)')\n",
    "    plt.ylabel('Y (m)')\n",
    "    plt.title(f'Re-entrant Cell: a={a}m, b={b}m, α={alpha}° {title}')\n",
    "    \n",
    "    # Calculate and display area\n",
    "    area = polygon_area(cell[\"nodes\"])\n",
    "    plt.text(0.02, 0.98, f'Area: {area:.4f} m²', transform=plt.gca().transAxes, \n",
    "             verticalalignment='top', bbox=dict(boxstyle='round', facecolor='wheat'))\n",
    "    \n",
    "    plt.show()\n",
    "    return cell\n",
    "\n",
    "# Plot cells with different angles\n",
    "cell_30 = plot_cell(1.0, 0.1, 30.0, \"(Moderate auxetic)\")\n",
    "cell_45 = plot_cell(1.0, 0.1, 45.0, \"(Strong auxetic)\")\n",
    "cell_60 = plot_cell(1.0, 0.1, 60.0, \"(Very strong auxetic)\")\n"
   ]
  },
  {
   "cell_type": "raw",
   "metadata": {
    "vscode": {
     "languageId": "raw"
    }
   },
   "source": [
    "## 3. Capacitive Sensor Response Simulation\n",
    "\n",
    "Model the capacitance change as a function of applied strain for different auxetic designs.\n"
   ]
  },
  {
   "cell_type": "code",
   "execution_count": null,
   "metadata": {},
   "outputs": [],
   "source": [
    "# Sensor parameters\n",
    "initial_gap = 1e-3  # 1mm capacitor gap\n",
    "strains = np.linspace(0, 0.05, 100)  # 0-5% strain\n",
    "\n",
    "# Compare different auxetic designs\n",
    "angles_to_compare = [30, 45, 60]\n",
    "colors = ['blue', 'green', 'red']\n",
    "\n",
    "plt.figure(figsize=(12, 8))\n",
    "\n",
    "for i, alpha in enumerate(angles_to_compare):\n",
    "    nu = calculate_poisson_ratio(1.0, alpha)\n",
    "    capacitance_changes = [estimate_capacitance_change(initial_gap, strain, nu) \n",
    "                          for strain in strains]\n",
    "    \n",
    "    plt.subplot(2, 2, 1)\n",
    "    plt.plot(strains * 100, np.array(capacitance_changes) * 100, \n",
    "             color=colors[i], linewidth=2, label=f'α={alpha}° (ν={nu:.2f})')\n",
    "\n",
    "plt.xlabel('Applied Strain (%)')\n",
    "plt.ylabel('Capacitance Change (%)')\n",
    "plt.title('Sensor Response: Auxetic vs Conventional')\n",
    "plt.grid(True, alpha=0.3)\n",
    "plt.legend()\n",
    "\n",
    "# Add conventional material for comparison\n",
    "nu_conventional = 0.3\n",
    "cap_changes_conv = [estimate_capacitance_change(initial_gap, strain, nu_conventional) \n",
    "                   for strain in strains]\n",
    "plt.plot(strains * 100, np.array(cap_changes_conv) * 100, \n",
    "         'k--', linewidth=2, label=f'Conventional (ν={nu_conventional})')\n",
    "plt.legend()\n",
    "\n",
    "# Sensitivity analysis\n",
    "plt.subplot(2, 2, 2)\n",
    "sensitivities = []\n",
    "for alpha in angles:\n",
    "    nu = calculate_poisson_ratio(1.0, alpha)\n",
    "    # Sensitivity = dC/dε at small strain\n",
    "    sensitivity = estimate_capacitance_change(initial_gap, 0.001, nu) / 0.001\n",
    "    sensitivities.append(sensitivity * 100)  # Convert to %/%\n",
    "\n",
    "plt.bar(range(len(angles)), sensitivities, color=colors)\n",
    "plt.xlabel('Design')\n",
    "plt.ylabel('Sensitivity (%/% strain)')\n",
    "plt.title('Sensor Sensitivity Comparison')\n",
    "plt.xticks(range(len(angles)), [f'α={a}°' for a in angles])\n",
    "plt.grid(True, alpha=0.3)\n",
    "\n",
    "# Mock measurement simulation\n",
    "plt.subplot(2, 2, 3)\n",
    "mock_lcr = MockLCRMeter(base_capacitance=10e-12)  # 10pF baseline\n",
    "\n",
    "# Simulate measurement under varying load\n",
    "time_points = np.linspace(0, 10, 100)\n",
    "applied_strain = 0.02 * np.sin(2 * np.pi * 0.1 * time_points)  # Sinusoidal loading\n",
    "nu_sensor = calculate_poisson_ratio(1.0, 45.0)  # Use 45° design\n",
    "\n",
    "measured_caps = []\n",
    "for strain in applied_strain:\n",
    "    # Simulate capacitance change\n",
    "    relative_change = estimate_capacitance_change(initial_gap, abs(strain), nu_sensor)\n",
    "    new_cap = mock_lcr.base_capacitance * (1 + relative_change)\n",
    "    mock_lcr.base_capacitance = new_cap  # Update for next measurement\n",
    "    cap_reading = read_capacitance(mock_lcr)\n",
    "    measured_caps.append(cap_reading * 1e12)  # Convert to pF\n",
    "\n",
    "plt.plot(time_points, measured_caps, 'g-', linewidth=2)\n",
    "plt.xlabel('Time (s)')\n",
    "plt.ylabel('Measured Capacitance (pF)')\n",
    "plt.title('Simulated Dynamic Response')\n",
    "plt.grid(True, alpha=0.3)\n",
    "\n",
    "# Performance metrics\n",
    "plt.subplot(2, 2, 4)\n",
    "performance_data = []\n",
    "for alpha in angles_to_compare:\n",
    "    nu = calculate_poisson_ratio(1.0, alpha)\n",
    "    max_change = estimate_capacitance_change(initial_gap, 0.05, nu) * 100  # At 5% strain\n",
    "    sensitivity = estimate_capacitance_change(initial_gap, 0.001, nu) / 0.001 * 100\n",
    "    performance_data.append([abs(max_change), abs(sensitivity)])\n",
    "\n",
    "performance_data = np.array(performance_data)\n",
    "x_pos = np.arange(len(angles_to_compare))\n",
    "width = 0.35\n",
    "\n",
    "plt.bar(x_pos - width/2, performance_data[:, 0], width, label='Max Change (%)', alpha=0.8)\n",
    "plt.bar(x_pos + width/2, performance_data[:, 1], width, label='Sensitivity (%/%)', alpha=0.8)\n",
    "\n",
    "plt.xlabel('Design Configuration')\n",
    "plt.ylabel('Performance Metric')\n",
    "plt.title('Performance Summary')\n",
    "plt.xticks(x_pos, [f'α={a}°' for a in angles_to_compare])\n",
    "plt.legend()\n",
    "plt.grid(True, alpha=0.3)\n",
    "\n",
    "plt.tight_layout()\n",
    "plt.show()\n",
    "\n",
    "print(\"\\\\n=== Sensor Performance Summary ===\")\n",
    "for i, alpha in enumerate(angles_to_compare):\n",
    "    nu = calculate_poisson_ratio(1.0, alpha)\n",
    "    sensitivity = estimate_capacitance_change(initial_gap, 0.001, nu) / 0.001 * 100\n",
    "    max_change = estimate_capacitance_change(initial_gap, 0.05, nu) * 100\n",
    "    print(f\"α={alpha}°: ν={nu:.3f}, Sensitivity={sensitivity:.2f}%/%, Max Change={max_change:.2f}%\")\n"
   ]
  }
 ],
 "metadata": {
  "language_info": {
   "name": "python"
  }
 },
 "nbformat": 4,
 "nbformat_minor": 2
}
